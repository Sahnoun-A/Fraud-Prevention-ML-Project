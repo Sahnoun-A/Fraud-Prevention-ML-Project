!jupyter nbconvert --to script app.ipynb


!jupyter nbconvert --to script test.ipynb



