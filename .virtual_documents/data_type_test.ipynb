import pandas as pd
import numpy as np

import warnings
warnings.filterwarnings("ignore")

# Load the CSV file
data = pd.read_csv('ecom_txns.csv')

# Display the first few rows of the dataset
data.head()


data.info()



